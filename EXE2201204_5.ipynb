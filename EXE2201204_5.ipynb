{
  "nbformat": 4,
  "nbformat_minor": 0,
  "metadata": {
    "colab": {
      "provenance": [],
      "collapsed_sections": [],
      "authorship_tag": "ABX9TyN8PscXL1dC0hQl9N9WSkU0",
      "include_colab_link": true
    },
    "kernelspec": {
      "name": "python3",
      "display_name": "Python 3"
    },
    "language_info": {
      "name": "python"
    }
  },
  "cells": [
    {
      "cell_type": "markdown",
      "metadata": {
        "id": "view-in-github",
        "colab_type": "text"
      },
      "source": [
        "<a href=\"https://colab.research.google.com/github/2201204/BP_10_Ch5/blob/main/EXE2201204_5.ipynb\" target=\"_parent\"><img src=\"https://colab.research.google.com/assets/colab-badge.svg\" alt=\"Open In Colab\"/></a>"
      ]
    },
    {
      "cell_type": "code",
      "execution_count": null,
      "metadata": {
        "id": "so8mYtxCDK5y"
      },
      "outputs": [],
      "source": [
        "1."
      ]
    },
    {
      "cell_type": "code",
      "source": [
        "age=20  \n",
        "if age < 20 : print(\"20살 미만\")\n",
        "else:print('20살 이상')"
      ],
      "metadata": {
        "colab": {
          "base_uri": "https://localhost:8080/"
        },
        "id": "7TR4CLnMDkfu",
        "outputId": "1243c884-1afc-41d1-f155-8009543dcf71"
      },
      "execution_count": null,
      "outputs": [
        {
          "output_type": "stream",
          "name": "stdout",
          "text": [
            "20살 이상\n"
          ]
        }
      ]
    },
    {
      "cell_type": "code",
      "source": [
        "2."
      ],
      "metadata": {
        "id": "lmzHY_EpFfA3"
      },
      "execution_count": null,
      "outputs": []
    },
    {
      "cell_type": "code",
      "source": [
        "age = 30\n",
        "if age < 20 : #age가 20보다 작은 숫자일 경우\n",
        "  print(\"20살 미만\") #20살 미만을 출력한다.\n",
        "elif age>=30 and age<=50: #30이상 50일 경우\n",
        "  print('30살 이상 50이하') #30살 이상 50이하라고 출력한다.\n",
        "else: #20이상의 숫자일 경우\n",
        "  print('20살 이상') #20이상을 출력한다."
      ],
      "metadata": {
        "id": "KAkP5lAQEC7O",
        "colab": {
          "base_uri": "https://localhost:8080/"
        },
        "outputId": "77c2bc6e-82db-45ad-90d4-2271ea02e6d7"
      },
      "execution_count": 5,
      "outputs": [
        {
          "output_type": "stream",
          "name": "stdout",
          "text": [
            "30살 이상 50이하\n"
          ]
        }
      ]
    },
    {
      "cell_type": "code",
      "source": [
        "3."
      ],
      "metadata": {
        "id": "8pni2rn3Fgk-"
      },
      "execution_count": null,
      "outputs": []
    },
    {
      "cell_type": "code",
      "source": [
        "temp = int(input(\"현재 온도를 입력하시오.:\"))\n",
        "if temp >= 25:\n",
        "  print(\"반바지를 입으세요.\")\n",
        "else:\n",
        "  print(\"긴바지를 입으세요.\")"
      ],
      "metadata": {
        "colab": {
          "base_uri": "https://localhost:8080/"
        },
        "id": "rpKp3i0jEno-",
        "outputId": "9c31fcff-b9db-4379-e23f-dfd14b4bba44"
      },
      "execution_count": null,
      "outputs": [
        {
          "output_type": "stream",
          "name": "stdout",
          "text": [
            "현재 온도를 입력하시오.:10\n",
            "긴바지를 입으세요.\n"
          ]
        }
      ]
    },
    {
      "cell_type": "code",
      "source": [
        "4."
      ],
      "metadata": {
        "id": "vJcJg_g8Fhc1"
      },
      "execution_count": null,
      "outputs": []
    },
    {
      "cell_type": "code",
      "source": [
        "score = int(input(\"성적을 입력하시오: \")) #성적을 입력 받은 후, 변수 score에 저장한다.\n",
        "if score >= 90:       #만약 score가 90이상이면 A를 출력\n",
        "  print(\"A학점입니다.\")  \n",
        "elif score >= 80:     #만약 score가 80이상이면 B를 출력\n",
        "  print(\"B학점입니다.\")\n",
        "elif score >=70:      #만약 score가 70이상이면 C를 출력\n",
        "  print(\"C학점입니다.\")\n",
        "elif score >=60:      #만약 score가 60이상이면 D를 출력\n",
        "  print(\"D학점입니다.\")\n",
        "else :                #그 외 경우 F를 출력\n",
        "  print(\"F학점입니다.\")"
      ],
      "metadata": {
        "colab": {
          "base_uri": "https://localhost:8080/"
        },
        "id": "AtP6-Wy0Fbxe",
        "outputId": "dd246e51-0513-4fa6-b912-0eb66fb19501"
      },
      "execution_count": 6,
      "outputs": [
        {
          "output_type": "stream",
          "name": "stdout",
          "text": [
            "성적을 입력하시오: 99\n",
            "A학점입니다.\n"
          ]
        }
      ]
    },
    {
      "cell_type": "code",
      "source": [
        "5."
      ],
      "metadata": {
        "id": "ehwVefjMHd3i"
      },
      "execution_count": null,
      "outputs": []
    },
    {
      "cell_type": "code",
      "source": [
        "import random \n",
        "x= random.randint(1,100) #1-100까지의 무작위 정수를 변수 x에 저장한다.\n",
        "y=random.randint(1,100)  #1-100까지의 무작위 정수를 변수 y에 저장한다.\n",
        "ans = int(input(str(x)+\"-\"+str(y)+\"=\"))\n",
        "if ans == x-y:           #답일 경우 맞았습니다.를 출력\n",
        "  print(\"맞았습니다.\")\n",
        "else :                   #답이 아닐 경우 틀렸습니다.를 출력\n",
        "  print(\"틀렸습니다.\")"
      ],
      "metadata": {
        "colab": {
          "base_uri": "https://localhost:8080/"
        },
        "id": "gTKtPbA4IOnF",
        "outputId": "6f4272e2-25f7-4ff8-d765-1c1cd125f2ec"
      },
      "execution_count": 3,
      "outputs": [
        {
          "output_type": "stream",
          "name": "stdout",
          "text": [
            "21-90=-69\n",
            "맞았습니다.\n"
          ]
        }
      ]
    },
    {
      "cell_type": "code",
      "source": [
        "6."
      ],
      "metadata": {
        "id": "ZegdQrc6Jyl2"
      },
      "execution_count": null,
      "outputs": []
    },
    {
      "cell_type": "code",
      "source": [
        "n = int(input(\"정수를 입력하시오: \"))\n",
        "if n%2==0 and n%3==0:\n",
        "  print(\"2와 3으로 나우어 떨어집니다.\")\n",
        "else :\n",
        "  print(\"2와 3으로 나누어 떨어지지 않습니다.\")"
      ],
      "metadata": {
        "colab": {
          "base_uri": "https://localhost:8080/"
        },
        "id": "fqGukATTJ5gG",
        "outputId": "897fd26d-a15d-45be-d926-6a8d267b3c9b"
      },
      "execution_count": null,
      "outputs": [
        {
          "output_type": "stream",
          "name": "stdout",
          "text": [
            "정수를 입력하시오: 6\n",
            "2와 3으로 나우어 떨어집니다.\n"
          ]
        }
      ]
    },
    {
      "cell_type": "code",
      "source": [
        "7."
      ],
      "metadata": {
        "id": "KID1mF_3EFf_"
      },
      "execution_count": null,
      "outputs": []
    },
    {
      "cell_type": "code",
      "source": [
        "import random\n",
        "x=random.randint(10,99)\n",
        "y=int(input('복권번호를 입력하시오.(0에서 99사이):')) #무작위 int형 숫자를 변수 x에 저장\n",
        "x1=x//10\n",
        "x2=x%10\n",
        "y1=y//10\n",
        "y2=y%10\n",
        "print('당첨번호는',x,'입니다.') #당첨번호 출력\n",
        "if x==y:  \n",
        "  print(\"상금은 100만원입니다.\")\n",
        "elif y1==x2 and y2==x1:  #숫자가 2개 전부 같을 때\n",
        "  print(\"상금은 100만원입니다.\")\n",
        "elif (y1==x1 or y1==x1)or(y2==x1 or y2==x2): #숫자가 1개만 같을 때\n",
        "  print(\"상금은 50만원입니다.\")\n",
        "else:  #숫자 2개가 전부 다를 때\n",
        "  print('상금은 없습니다.')"
      ],
      "metadata": {
        "colab": {
          "base_uri": "https://localhost:8080/"
        },
        "id": "W1tSN_SuEHXY",
        "outputId": "f3ff4500-dde1-48e9-c4d9-79fc4838391a"
      },
      "execution_count": 4,
      "outputs": [
        {
          "output_type": "stream",
          "name": "stdout",
          "text": [
            "복권번호를 입력하시오.(0에서 99사이):67\n",
            "당첨번호는 61 입니다.\n",
            "상금은 50만원입니다.\n"
          ]
        }
      ]
    }
  ]
}